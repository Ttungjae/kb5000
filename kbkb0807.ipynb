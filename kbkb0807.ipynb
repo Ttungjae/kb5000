{
  "nbformat": 4,
  "nbformat_minor": 0,
  "metadata": {
    "colab": {
      "name": "kbkb0807.ipynb",
      "provenance": [],
      "collapsed_sections": [],
      "authorship_tag": "ABX9TyPKHJ1RlRnJ3n5h6PzB6HAs",
      "include_colab_link": true
    },
    "kernelspec": {
      "name": "python3",
      "display_name": "Python 3"
    },
    "language_info": {
      "name": "python"
    }
  },
  "cells": [
    {
      "cell_type": "markdown",
      "metadata": {
        "id": "view-in-github",
        "colab_type": "text"
      },
      "source": [
        "<a href=\"https://colab.research.google.com/github/Ttungjae/kb5000/blob/main/kbkb0807.ipynb\" target=\"_parent\"><img src=\"https://colab.research.google.com/assets/colab-badge.svg\" alt=\"Open In Colab\"/></a>"
      ]
    },
    {
      "cell_type": "code",
      "execution_count": 2,
      "metadata": {
        "id": "yXiJVzaZTbuL"
      },
      "outputs": [],
      "source": [
        "import pandas as pd"
      ]
    },
    {
      "cell_type": "code",
      "source": [
        "sym = \"TSLA\"  # This is not case-sensitive\n",
        "token = \"pk_0dd1ed99cc464434aa0ee8abf070c1af\"\n",
        "df_temp = pd.read_json('https://cloud.iexapis.com/stable/stock/'+sym+'/chart/1y?token='+token+'')"
      ],
      "metadata": {
        "id": "z39oK1XBTfrO"
      },
      "execution_count": 3,
      "outputs": []
    },
    {
      "cell_type": "code",
      "source": [
        "df_temp.set_index(\"date\", inplace =True)"
      ],
      "metadata": {
        "id": "GGyZyAKAUBi-"
      },
      "execution_count": 8,
      "outputs": []
    },
    {
      "cell_type": "code",
      "source": [
        "df_temp.columns"
      ],
      "metadata": {
        "colab": {
          "base_uri": "https://localhost:8080/"
        },
        "id": "X27y48pKXKtT",
        "outputId": "abb44129-34ac-4679-c63d-71ba96d3210b"
      },
      "execution_count": 21,
      "outputs": [
        {
          "output_type": "execute_result",
          "data": {
            "text/plain": [
              "Index(['close', 'high', 'low', 'open', 'symbol', 'volume', 'id', 'key',\n",
              "       'subkey', 'updated', 'changeOverTime', 'marketChangeOverTime', 'uOpen',\n",
              "       'uClose', 'uHigh', 'uLow', 'uVolume', 'fOpen', 'fClose', 'fHigh',\n",
              "       'fLow', 'fVolume', 'label', 'change', 'changePercent'],\n",
              "      dtype='object')"
            ]
          },
          "metadata": {},
          "execution_count": 21
        }
      ]
    },
    {
      "cell_type": "code",
      "source": [
        "dfx=df_temp[['close', 'high', 'low', 'open', 'volume','changePercent']]"
      ],
      "metadata": {
        "id": "UHJhCjUOU0hQ"
      },
      "execution_count": 24,
      "outputs": []
    },
    {
      "cell_type": "code",
      "source": [
        "dfx"
      ],
      "metadata": {
        "colab": {
          "base_uri": "https://localhost:8080/",
          "height": 455
        },
        "id": "xU83-v5PXIeB",
        "outputId": "58505d3c-4628-4793-9baf-e5d84b7ee50c"
      },
      "execution_count": 25,
      "outputs": [
        {
          "output_type": "execute_result",
          "data": {
            "text/html": [
              "\n",
              "  <div id=\"df-24e75827-2762-4f9e-ad1e-0582a5f79cef\">\n",
              "    <div class=\"colab-df-container\">\n",
              "      <div>\n",
              "<style scoped>\n",
              "    .dataframe tbody tr th:only-of-type {\n",
              "        vertical-align: middle;\n",
              "    }\n",
              "\n",
              "    .dataframe tbody tr th {\n",
              "        vertical-align: top;\n",
              "    }\n",
              "\n",
              "    .dataframe thead th {\n",
              "        text-align: right;\n",
              "    }\n",
              "</style>\n",
              "<table border=\"1\" class=\"dataframe\">\n",
              "  <thead>\n",
              "    <tr style=\"text-align: right;\">\n",
              "      <th></th>\n",
              "      <th>close</th>\n",
              "      <th>high</th>\n",
              "      <th>low</th>\n",
              "      <th>open</th>\n",
              "      <th>volume</th>\n",
              "      <th>changePercent</th>\n",
              "    </tr>\n",
              "    <tr>\n",
              "      <th>date</th>\n",
              "      <th></th>\n",
              "      <th></th>\n",
              "      <th></th>\n",
              "      <th></th>\n",
              "      <th></th>\n",
              "      <th></th>\n",
              "    </tr>\n",
              "  </thead>\n",
              "  <tbody>\n",
              "    <tr>\n",
              "      <th>2021-03-08</th>\n",
              "      <td>563.00</td>\n",
              "      <td>620.125</td>\n",
              "      <td>558.7900</td>\n",
              "      <td>600.55</td>\n",
              "      <td>51786958</td>\n",
              "      <td>0.0000</td>\n",
              "    </tr>\n",
              "    <tr>\n",
              "      <th>2021-03-09</th>\n",
              "      <td>673.58</td>\n",
              "      <td>678.090</td>\n",
              "      <td>595.2100</td>\n",
              "      <td>608.18</td>\n",
              "      <td>67523328</td>\n",
              "      <td>0.1964</td>\n",
              "    </tr>\n",
              "    <tr>\n",
              "      <th>2021-03-10</th>\n",
              "      <td>668.06</td>\n",
              "      <td>717.850</td>\n",
              "      <td>655.0600</td>\n",
              "      <td>700.30</td>\n",
              "      <td>60605672</td>\n",
              "      <td>-0.0082</td>\n",
              "    </tr>\n",
              "    <tr>\n",
              "      <th>2021-03-11</th>\n",
              "      <td>699.60</td>\n",
              "      <td>702.500</td>\n",
              "      <td>677.1800</td>\n",
              "      <td>699.40</td>\n",
              "      <td>36253892</td>\n",
              "      <td>0.0472</td>\n",
              "    </tr>\n",
              "    <tr>\n",
              "      <th>2021-03-12</th>\n",
              "      <td>693.73</td>\n",
              "      <td>694.880</td>\n",
              "      <td>666.1394</td>\n",
              "      <td>670.00</td>\n",
              "      <td>33583840</td>\n",
              "      <td>-0.0084</td>\n",
              "    </tr>\n",
              "    <tr>\n",
              "      <th>...</th>\n",
              "      <td>...</td>\n",
              "      <td>...</td>\n",
              "      <td>...</td>\n",
              "      <td>...</td>\n",
              "      <td>...</td>\n",
              "      <td>...</td>\n",
              "    </tr>\n",
              "    <tr>\n",
              "      <th>2022-02-28</th>\n",
              "      <td>870.43</td>\n",
              "      <td>876.860</td>\n",
              "      <td>814.7075</td>\n",
              "      <td>815.01</td>\n",
              "      <td>33002289</td>\n",
              "      <td>0.0748</td>\n",
              "    </tr>\n",
              "    <tr>\n",
              "      <th>2022-03-01</th>\n",
              "      <td>864.37</td>\n",
              "      <td>889.880</td>\n",
              "      <td>853.7800</td>\n",
              "      <td>869.68</td>\n",
              "      <td>24922287</td>\n",
              "      <td>-0.0070</td>\n",
              "    </tr>\n",
              "    <tr>\n",
              "      <th>2022-03-02</th>\n",
              "      <td>879.89</td>\n",
              "      <td>886.480</td>\n",
              "      <td>844.2721</td>\n",
              "      <td>872.13</td>\n",
              "      <td>24881146</td>\n",
              "      <td>0.0180</td>\n",
              "    </tr>\n",
              "    <tr>\n",
              "      <th>2022-03-03</th>\n",
              "      <td>839.29</td>\n",
              "      <td>886.439</td>\n",
              "      <td>832.6001</td>\n",
              "      <td>878.77</td>\n",
              "      <td>20541169</td>\n",
              "      <td>-0.0461</td>\n",
              "    </tr>\n",
              "    <tr>\n",
              "      <th>2022-03-04</th>\n",
              "      <td>838.29</td>\n",
              "      <td>855.650</td>\n",
              "      <td>825.1609</td>\n",
              "      <td>849.10</td>\n",
              "      <td>22393287</td>\n",
              "      <td>-0.0012</td>\n",
              "    </tr>\n",
              "  </tbody>\n",
              "</table>\n",
              "<p>252 rows × 6 columns</p>\n",
              "</div>\n",
              "      <button class=\"colab-df-convert\" onclick=\"convertToInteractive('df-24e75827-2762-4f9e-ad1e-0582a5f79cef')\"\n",
              "              title=\"Convert this dataframe to an interactive table.\"\n",
              "              style=\"display:none;\">\n",
              "        \n",
              "  <svg xmlns=\"http://www.w3.org/2000/svg\" height=\"24px\"viewBox=\"0 0 24 24\"\n",
              "       width=\"24px\">\n",
              "    <path d=\"M0 0h24v24H0V0z\" fill=\"none\"/>\n",
              "    <path d=\"M18.56 5.44l.94 2.06.94-2.06 2.06-.94-2.06-.94-.94-2.06-.94 2.06-2.06.94zm-11 1L8.5 8.5l.94-2.06 2.06-.94-2.06-.94L8.5 2.5l-.94 2.06-2.06.94zm10 10l.94 2.06.94-2.06 2.06-.94-2.06-.94-.94-2.06-.94 2.06-2.06.94z\"/><path d=\"M17.41 7.96l-1.37-1.37c-.4-.4-.92-.59-1.43-.59-.52 0-1.04.2-1.43.59L10.3 9.45l-7.72 7.72c-.78.78-.78 2.05 0 2.83L4 21.41c.39.39.9.59 1.41.59.51 0 1.02-.2 1.41-.59l7.78-7.78 2.81-2.81c.8-.78.8-2.07 0-2.86zM5.41 20L4 18.59l7.72-7.72 1.47 1.35L5.41 20z\"/>\n",
              "  </svg>\n",
              "      </button>\n",
              "      \n",
              "  <style>\n",
              "    .colab-df-container {\n",
              "      display:flex;\n",
              "      flex-wrap:wrap;\n",
              "      gap: 12px;\n",
              "    }\n",
              "\n",
              "    .colab-df-convert {\n",
              "      background-color: #E8F0FE;\n",
              "      border: none;\n",
              "      border-radius: 50%;\n",
              "      cursor: pointer;\n",
              "      display: none;\n",
              "      fill: #1967D2;\n",
              "      height: 32px;\n",
              "      padding: 0 0 0 0;\n",
              "      width: 32px;\n",
              "    }\n",
              "\n",
              "    .colab-df-convert:hover {\n",
              "      background-color: #E2EBFA;\n",
              "      box-shadow: 0px 1px 2px rgba(60, 64, 67, 0.3), 0px 1px 3px 1px rgba(60, 64, 67, 0.15);\n",
              "      fill: #174EA6;\n",
              "    }\n",
              "\n",
              "    [theme=dark] .colab-df-convert {\n",
              "      background-color: #3B4455;\n",
              "      fill: #D2E3FC;\n",
              "    }\n",
              "\n",
              "    [theme=dark] .colab-df-convert:hover {\n",
              "      background-color: #434B5C;\n",
              "      box-shadow: 0px 1px 3px 1px rgba(0, 0, 0, 0.15);\n",
              "      filter: drop-shadow(0px 1px 2px rgba(0, 0, 0, 0.3));\n",
              "      fill: #FFFFFF;\n",
              "    }\n",
              "  </style>\n",
              "\n",
              "      <script>\n",
              "        const buttonEl =\n",
              "          document.querySelector('#df-24e75827-2762-4f9e-ad1e-0582a5f79cef button.colab-df-convert');\n",
              "        buttonEl.style.display =\n",
              "          google.colab.kernel.accessAllowed ? 'block' : 'none';\n",
              "\n",
              "        async function convertToInteractive(key) {\n",
              "          const element = document.querySelector('#df-24e75827-2762-4f9e-ad1e-0582a5f79cef');\n",
              "          const dataTable =\n",
              "            await google.colab.kernel.invokeFunction('convertToInteractive',\n",
              "                                                     [key], {});\n",
              "          if (!dataTable) return;\n",
              "\n",
              "          const docLinkHtml = 'Like what you see? Visit the ' +\n",
              "            '<a target=\"_blank\" href=https://colab.research.google.com/notebooks/data_table.ipynb>data table notebook</a>'\n",
              "            + ' to learn more about interactive tables.';\n",
              "          element.innerHTML = '';\n",
              "          dataTable['output_type'] = 'display_data';\n",
              "          await google.colab.output.renderOutput(dataTable, element);\n",
              "          const docLink = document.createElement('div');\n",
              "          docLink.innerHTML = docLinkHtml;\n",
              "          element.appendChild(docLink);\n",
              "        }\n",
              "      </script>\n",
              "    </div>\n",
              "  </div>\n",
              "  "
            ],
            "text/plain": [
              "             close     high       low    open    volume  changePercent\n",
              "date                                                                  \n",
              "2021-03-08  563.00  620.125  558.7900  600.55  51786958         0.0000\n",
              "2021-03-09  673.58  678.090  595.2100  608.18  67523328         0.1964\n",
              "2021-03-10  668.06  717.850  655.0600  700.30  60605672        -0.0082\n",
              "2021-03-11  699.60  702.500  677.1800  699.40  36253892         0.0472\n",
              "2021-03-12  693.73  694.880  666.1394  670.00  33583840        -0.0084\n",
              "...            ...      ...       ...     ...       ...            ...\n",
              "2022-02-28  870.43  876.860  814.7075  815.01  33002289         0.0748\n",
              "2022-03-01  864.37  889.880  853.7800  869.68  24922287        -0.0070\n",
              "2022-03-02  879.89  886.480  844.2721  872.13  24881146         0.0180\n",
              "2022-03-03  839.29  886.439  832.6001  878.77  20541169        -0.0461\n",
              "2022-03-04  838.29  855.650  825.1609  849.10  22393287        -0.0012\n",
              "\n",
              "[252 rows x 6 columns]"
            ]
          },
          "metadata": {},
          "execution_count": 25
        }
      ]
    }
  ]
}